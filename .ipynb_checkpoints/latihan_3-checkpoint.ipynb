{
 "cells": [
  {
   "cell_type": "code",
   "execution_count": 2,
   "id": "6bfd3e8f",
   "metadata": {},
   "outputs": [
    {
     "ename": "SyntaxError",
     "evalue": "invalid syntax (2700908334.py, line 1)",
     "output_type": "error",
     "traceback": [
      "\u001b[1;36m  Input \u001b[1;32mIn [2]\u001b[1;36m\u001b[0m\n\u001b[1;33m    <h1>1<h1>\u001b[0m\n\u001b[1;37m    ^\u001b[0m\n\u001b[1;31mSyntaxError\u001b[0m\u001b[1;31m:\u001b[0m invalid syntax\n"
     ]
    }
   ],
   "source": [
    "<h1>1<h1>\n"
   ]
  },
  {
   "cell_type": "code",
   "execution_count": null,
   "id": "b72f99fb",
   "metadata": {
    "colab": {
     "base_uri": "https://localhost:8080/"
    },
    "execution": {
     "iopub.execute_input": "2023-04-07T04:09:02.749871Z",
     "iopub.status.busy": "2023-04-07T04:09:02.749131Z",
     "iopub.status.idle": "2023-04-07T04:09:09.955876Z",
     "shell.execute_reply": "2023-04-07T04:09:09.954397Z"
    },
    "id": "b72f99fb",
    "outputId": "29410ea0-79f0-4093-bce1-05b930ae3527",
    "papermill": {
     "duration": 7.227175,
     "end_time": "2023-04-07T04:09:09.958881",
     "exception": false,
     "start_time": "2023-04-07T04:09:02.731706",
     "status": "completed"
    },
    "tags": []
   },
   "outputs": [],
   "source": [
    "import numpy as np\n",
    "import pandas as pd\n",
    "import matplotlib.pyplot as plt\n",
    "import seaborn as sns\n",
    "\n",
    "from scipy import stats\n",
    "from sklearn.preprocessing import StandardScaler\n",
    "from imblearn import over_sampling\n",
    "\n",
    "from sklearn.model_selection import train_test_split, cross_validate, KFold, GridSearchCV\n",
    "from sklearn.metrics import accuracy_score, precision_score, recall_score, fbeta_score, make_scorer, confusion_matrix\n",
    "\n",
    "from sklearn.linear_model import LogisticRegression\n",
    "from sklearn.tree import DecisionTreeClassifier\n",
    "from sklearn.neighbors import KNeighborsClassifier\n",
    "from sklearn.ensemble import RandomForestClassifier\n",
    "from sklearn.ensemble import AdaBoostClassifier\n",
    "from sklearn.ensemble import GradientBoostingClassifier\n",
    "from lightgbm import LGBMClassifier\n",
    "from xgboost import XGBClassifier\n",
    "\n",
    "get_ipython().system(' pip install shap')\n",
    "import shap\n",
    "import warnings\n",
    "warnings.filterwarnings('ignore')\n",
    "pd.set_option('display.max_columns', None)"
   ]
  },
  {
   "cell_type": "code",
   "execution_count": null,
   "id": "0a2bdb73",
   "metadata": {
    "colab": {
     "base_uri": "https://localhost:8080/",
     "height": 261
    },
    "execution": {
     "iopub.execute_input": "2023-04-07T04:09:09.990417Z",
     "iopub.status.busy": "2023-04-07T04:09:09.989302Z",
     "iopub.status.idle": "2023-04-07T04:09:12.081799Z",
     "shell.execute_reply": "2023-04-07T04:09:12.080688Z"
    },
    "id": "0a2bdb73",
    "outputId": "44790c8d-5e4a-4478-d813-b072d8996cf6",
    "papermill": {
     "duration": 2.111196,
     "end_time": "2023-04-07T04:09:12.084522",
     "exception": false,
     "start_time": "2023-04-07T04:09:09.973326",
     "status": "completed"
    },
    "tags": []
   },
   "outputs": [],
   "source": [
    "df = pd.read_excel('E Commerce Dataset.xlsx', sheet_name=1)\n",
    "df.head()"
   ]
  },
  {
   "cell_type": "code",
   "execution_count": null,
   "id": "3982e88b",
   "metadata": {},
   "outputs": [],
   "source": [
    "df.info()"
   ]
  },
  {
   "cell_type": "code",
   "execution_count": null,
   "id": "0ebd7da1",
   "metadata": {
    "colab": {
     "base_uri": "https://localhost:8080/",
     "height": 677
    },
    "execution": {
     "iopub.execute_input": "2023-04-07T04:09:12.117829Z",
     "iopub.status.busy": "2023-04-07T04:09:12.116335Z",
     "iopub.status.idle": "2023-04-07T04:09:12.169085Z",
     "shell.execute_reply": "2023-04-07T04:09:12.167621Z"
    },
    "id": "0ebd7da1",
    "outputId": "c3ad0980-ee46-4953-91f2-54d4947ac4c8",
    "papermill": {
     "duration": 0.072917,
     "end_time": "2023-04-07T04:09:12.171768",
     "exception": false,
     "start_time": "2023-04-07T04:09:12.098851",
     "status": "completed"
    },
    "tags": []
   },
   "outputs": [],
   "source": [
    "df_dict = pd.read_excel('E Commerce Dataset.xlsx', sheet_name=0)\n",
    "df_dict.columns = df_dict.iloc[0]\n",
    "df_dict = df_dict[1:].reset_index()\n",
    "df_dict[['Variable','Discerption']]"
   ]
  },
  {
   "cell_type": "markdown",
   "id": "25d5c56f",
   "metadata": {
    "id": "25d5c56f",
    "papermill": {
     "duration": 0.01399,
     "end_time": "2023-04-07T04:09:12.200206",
     "exception": false,
     "start_time": "2023-04-07T04:09:12.186216",
     "status": "completed"
    },
    "tags": []
   },
   "source": [
    "# 1. EDA"
   ]
  },
  {
   "cell_type": "code",
   "execution_count": null,
   "id": "f7a07faf",
   "metadata": {
    "execution": {
     "iopub.execute_input": "2023-04-07T04:09:12.231248Z",
     "iopub.status.busy": "2023-04-07T04:09:12.230799Z",
     "iopub.status.idle": "2023-04-07T04:09:12.237949Z",
     "shell.execute_reply": "2023-04-07T04:09:12.236761Z"
    },
    "id": "f7a07faf",
    "papermill": {
     "duration": 0.025847,
     "end_time": "2023-04-07T04:09:12.240374",
     "exception": false,
     "start_time": "2023-04-07T04:09:12.214527",
     "status": "completed"
    },
    "tags": []
   },
   "outputs": [],
   "source": [
    "# def summary(text, df):\n",
    "#     print(f'{text} shape: {df.shape}')\n",
    "#     summ = pd.DataFrame(df.dtypes, columns=['dtypes'])\n",
    "#     summ['null'] = df.isnull().sum()\n",
    "#     summ['unique'] = df.nunique()\n",
    "#     summ['min'] = df.min()\n",
    "#     summ['median'] = df.median()\n",
    "#     summ['max'] = df.max()\n",
    "#     summ['mean'] = df.mean()\n",
    "#     summ['std'] = df.std()\n",
    "#     return summ\n",
    "\n",
    "# import pandas as pd\n",
    "\n",
    "def summary(text, df):\n",
    "    print(f'{text} shape: {df.shape}')\n",
    "    summ = pd.DataFrame(df.dtypes, columns=['dtypes'])\n",
    "    summ['null'] = df.isnull().sum()\n",
    "    summ['unique'] = df.nunique()\n",
    "    summ['min'] = df.min()\n",
    "    \n",
    "    # Handle only numeric columns for median, max, mean, and std\n",
    "    numeric_columns = df.select_dtypes(include=['number']).columns\n",
    "    summ['median'] = df[numeric_columns].median()\n",
    "    summ['max'] = df[numeric_columns].max()\n",
    "    summ['mean'] = df[numeric_columns].mean()\n",
    "    summ['std'] = df[numeric_columns].std()\n",
    "    \n",
    "    return summ\n",
    "\n",
    "# Assuming df is your DataFrame\n",
    "summary_result = summary('data', df)\n"
   ]
  },
  {
   "cell_type": "code",
   "execution_count": null,
   "id": "f914fb31",
   "metadata": {
    "colab": {
     "base_uri": "https://localhost:8080/",
     "height": 694
    },
    "execution": {
     "iopub.execute_input": "2023-04-07T04:09:12.271788Z",
     "iopub.status.busy": "2023-04-07T04:09:12.270600Z",
     "iopub.status.idle": "2023-04-07T04:09:12.363207Z",
     "shell.execute_reply": "2023-04-07T04:09:12.361884Z"
    },
    "id": "f914fb31",
    "outputId": "4101b3a7-bdca-425f-fcba-1cb5d0a62efe",
    "papermill": {
     "duration": 0.111481,
     "end_time": "2023-04-07T04:09:12.366277",
     "exception": false,
     "start_time": "2023-04-07T04:09:12.254796",
     "status": "completed"
    },
    "tags": []
   },
   "outputs": [],
   "source": [
    "summary('data',df)"
   ]
  },
  {
   "cell_type": "code",
   "execution_count": null,
   "id": "b8111ff5",
   "metadata": {
    "execution": {
     "iopub.execute_input": "2023-04-07T04:09:12.398790Z",
     "iopub.status.busy": "2023-04-07T04:09:12.398074Z",
     "iopub.status.idle": "2023-04-07T04:09:12.409006Z",
     "shell.execute_reply": "2023-04-07T04:09:12.407670Z"
    },
    "id": "b8111ff5",
    "papermill": {
     "duration": 0.030698,
     "end_time": "2023-04-07T04:09:12.412178",
     "exception": false,
     "start_time": "2023-04-07T04:09:12.381480",
     "status": "completed"
    },
    "tags": []
   },
   "outputs": [],
   "source": [
    "cats= ['PreferredLoginDevice', 'PreferredPaymentMode', 'Gender', 'PreferedOrderCat', 'MaritalStatus']\n",
    "ordinal = ['CityTier', 'SatisfactionScore']\n",
    "binary = ['Churn', 'Complain']\n",
    "nums = df.loc[:, ~df.columns.isin(cats + binary + ordinal)].columns[1:]"
   ]
  },
  {
   "cell_type": "code",
   "execution_count": null,
   "id": "fceef55b",
   "metadata": {
    "colab": {
     "base_uri": "https://localhost:8080/",
     "height": 206
    },
    "execution": {
     "iopub.execute_input": "2023-04-07T04:09:12.444626Z",
     "iopub.status.busy": "2023-04-07T04:09:12.444124Z",
     "iopub.status.idle": "2023-04-07T04:09:12.472597Z",
     "shell.execute_reply": "2023-04-07T04:09:12.471293Z"
    },
    "id": "fceef55b",
    "outputId": "035a5239-d784-4a42-d818-2fc3fa706cc7",
    "papermill": {
     "duration": 0.047826,
     "end_time": "2023-04-07T04:09:12.475167",
     "exception": false,
     "start_time": "2023-04-07T04:09:12.427341",
     "status": "completed"
    },
    "tags": []
   },
   "outputs": [],
   "source": [
    "df[cats].describe().T"
   ]
  },
  {
   "cell_type": "code",
   "execution_count": null,
   "id": "f7fb6f9a",
   "metadata": {
    "colab": {
     "base_uri": "https://localhost:8080/",
     "height": 837
    },
    "execution": {
     "iopub.execute_input": "2023-04-07T04:09:12.508000Z",
     "iopub.status.busy": "2023-04-07T04:09:12.506885Z",
     "iopub.status.idle": "2023-04-07T04:09:12.550112Z",
     "shell.execute_reply": "2023-04-07T04:09:12.548750Z"
    },
    "id": "f7fb6f9a",
    "outputId": "7274b4ca-1ae3-4966-a698-4a860c3bc62c",
    "papermill": {
     "duration": 0.062498,
     "end_time": "2023-04-07T04:09:12.553096",
     "exception": false,
     "start_time": "2023-04-07T04:09:12.490598",
     "status": "completed"
    },
    "tags": []
   },
   "outputs": [],
   "source": [
    "for col in cats:\n",
    "    vc = df[col].value_counts().rename_axis(col).reset_index(name='Counts')\n",
    "    display(vc)"
   ]
  },
  {
   "cell_type": "markdown",
   "id": "2aa9a7b0",
   "metadata": {
    "id": "2aa9a7b0",
    "papermill": {
     "duration": 0.015667,
     "end_time": "2023-04-07T04:09:12.585070",
     "exception": false,
     "start_time": "2023-04-07T04:09:12.569403",
     "status": "completed"
    },
    "tags": []
   },
   "source": [
    "## Univariate Analysis"
   ]
  },
  {
   "cell_type": "code",
   "execution_count": null,
   "id": "663fdd7f",
   "metadata": {
    "colab": {
     "base_uri": "https://localhost:8080/",
     "height": 377
    },
    "execution": {
     "iopub.execute_input": "2023-04-07T04:09:12.619159Z",
     "iopub.status.busy": "2023-04-07T04:09:12.618733Z",
     "iopub.status.idle": "2023-04-07T04:09:14.140625Z",
     "shell.execute_reply": "2023-04-07T04:09:14.139241Z"
    },
    "id": "663fdd7f",
    "outputId": "7c36e4f2-61a2-45b2-ebc7-f2e70ace2079",
    "papermill": {
     "duration": 1.543342,
     "end_time": "2023-04-07T04:09:14.144408",
     "exception": false,
     "start_time": "2023-04-07T04:09:12.601066",
     "status": "completed"
    },
    "tags": []
   },
   "outputs": [],
   "source": [
    "plt.figure(figsize=(12,4))\n",
    "for i in range(0, len(nums)):\n",
    "    plt.subplot(2, 5, i+1)\n",
    "    sns.boxplot(y=df[nums[i]], color='chocolate')\n",
    "    plt.tight_layout()"
   ]
  },
  {
   "cell_type": "code",
   "execution_count": null,
   "id": "3df8df3d",
   "metadata": {
    "colab": {
     "base_uri": "https://localhost:8080/",
     "height": 377
    },
    "execution": {
     "iopub.execute_input": "2023-04-07T04:09:14.181211Z",
     "iopub.status.busy": "2023-04-07T04:09:14.180809Z",
     "iopub.status.idle": "2023-04-07T04:09:16.476524Z",
     "shell.execute_reply": "2023-04-07T04:09:16.475169Z"
    },
    "id": "3df8df3d",
    "outputId": "ab7a1bfb-5a6a-4311-e928-4454571867b2",
    "papermill": {
     "duration": 2.318012,
     "end_time": "2023-04-07T04:09:16.480178",
     "exception": false,
     "start_time": "2023-04-07T04:09:14.162166",
     "status": "completed"
    },
    "tags": []
   },
   "outputs": [],
   "source": [
    "plt.figure(figsize=(12,4))\n",
    "for i in range(0, len(nums)):\n",
    "    plt.subplot(2,5,i+1)\n",
    "    sns.kdeplot(x=df[nums[i]], color='chocolate')\n",
    "    plt.tight_layout()"
   ]
  },
  {
   "cell_type": "code",
   "execution_count": null,
   "id": "90d5b9b8",
   "metadata": {
    "colab": {
     "base_uri": "https://localhost:8080/",
     "height": 562
    },
    "execution": {
     "iopub.execute_input": "2023-04-07T04:09:16.518965Z",
     "iopub.status.busy": "2023-04-07T04:09:16.518514Z",
     "iopub.status.idle": "2023-04-07T04:09:17.539029Z",
     "shell.execute_reply": "2023-04-07T04:09:17.537362Z"
    },
    "id": "90d5b9b8",
    "outputId": "c95cde8b-676c-4a66-9963-e16357970b76",
    "papermill": {
     "duration": 1.043207,
     "end_time": "2023-04-07T04:09:17.541864",
     "exception": false,
     "start_time": "2023-04-07T04:09:16.498657",
     "status": "completed"
    },
    "tags": []
   },
   "outputs": [],
   "source": [
    "plt.figure(figsize=(12,6))\n",
    "for i in range(0, len(cats)):\n",
    "    plt.subplot(3, 2, i+1)\n",
    "    ax = sns.countplot(x=df[cats[i]], color='chocolate')\n",
    "    plt.tight_layout()\n",
    "    for container in ax.containers:\n",
    "        ax.bar_label(container, fontsize=9, fmt='%.f')\n",
    "        ax.set_ylim(top = ax.get_ylim()[1]*1.1)"
   ]
  },
  {
   "cell_type": "code",
   "execution_count": null,
   "id": "0035f2af",
   "metadata": {
    "colab": {
     "base_uri": "https://localhost:8080/",
     "height": 193
    },
    "execution": {
     "iopub.execute_input": "2023-04-07T04:09:17.583808Z",
     "iopub.status.busy": "2023-04-07T04:09:17.582576Z",
     "iopub.status.idle": "2023-04-07T04:09:17.966417Z",
     "shell.execute_reply": "2023-04-07T04:09:17.965156Z"
    },
    "id": "0035f2af",
    "outputId": "56c22256-bb35-4b32-fd1b-1d56dc0eef17",
    "papermill": {
     "duration": 0.407485,
     "end_time": "2023-04-07T04:09:17.968898",
     "exception": false,
     "start_time": "2023-04-07T04:09:17.561413",
     "status": "completed"
    },
    "tags": []
   },
   "outputs": [],
   "source": [
    "plt.figure(figsize=(12,2))\n",
    "for i in range(0, len(ordinal)):\n",
    "    plt.subplot(1, 2, i+1)\n",
    "    ax = sns.countplot(x=df[ordinal[i]], color='chocolate')\n",
    "    plt.tight_layout()\n",
    "    for container in ax.containers:\n",
    "        ax.bar_label(container, fontsize=9, fmt='%.f')\n",
    "        ax.set_ylim(top = ax.get_ylim()[1]*1.1)"
   ]
  },
  {
   "cell_type": "code",
   "execution_count": null,
   "id": "38fe01e2",
   "metadata": {
    "colab": {
     "base_uri": "https://localhost:8080/",
     "height": 207
    },
    "execution": {
     "iopub.execute_input": "2023-04-07T04:09:18.010873Z",
     "iopub.status.busy": "2023-04-07T04:09:18.010159Z",
     "iopub.status.idle": "2023-04-07T04:09:18.296290Z",
     "shell.execute_reply": "2023-04-07T04:09:18.294470Z"
    },
    "id": "38fe01e2",
    "outputId": "e462074a-9693-42b1-9e43-d19009db2e5a",
    "papermill": {
     "duration": 0.312759,
     "end_time": "2023-04-07T04:09:18.301537",
     "exception": false,
     "start_time": "2023-04-07T04:09:17.988778",
     "status": "completed"
    },
    "tags": []
   },
   "outputs": [],
   "source": [
    "plt.figure(figsize=(12,2))\n",
    "cats_bin = cats[4:]\n",
    "for i in range(0, len(binary)):\n",
    "    plt.subplot(1,4,i+1)\n",
    "    data=df[binary[i]].value_counts()\n",
    "    labels = [f'No {binary[i]}', f'{binary[i]}']\n",
    "    plt.pie(data,labels=labels,autopct='%.1f%%')\n",
    "    plt.tight_layout()"
   ]
  },
  {
   "cell_type": "markdown",
   "id": "80c85987",
   "metadata": {
    "id": "80c85987",
    "papermill": {
     "duration": 0.022287,
     "end_time": "2023-04-07T04:09:18.376640",
     "exception": false,
     "start_time": "2023-04-07T04:09:18.354353",
     "status": "completed"
    },
    "tags": []
   },
   "source": [
    "## Multivariate Analysis"
   ]
  },
  {
   "cell_type": "code",
   "execution_count": null,
   "id": "efdf103a",
   "metadata": {
    "colab": {
     "base_uri": "https://localhost:8080/",
     "height": 887
    },
    "execution": {
     "iopub.execute_input": "2023-04-07T04:09:18.419541Z",
     "iopub.status.busy": "2023-04-07T04:09:18.418867Z",
     "iopub.status.idle": "2023-04-07T04:09:19.522183Z",
     "shell.execute_reply": "2023-04-07T04:09:19.520444Z"
    },
    "id": "efdf103a",
    "outputId": "dfc20828-19fd-4c7e-9d80-ce1020c342f4",
    "papermill": {
     "duration": 1.128971,
     "end_time": "2023-04-07T04:09:19.525961",
     "exception": false,
     "start_time": "2023-04-07T04:09:18.396990",
     "status": "completed"
    },
    "tags": []
   },
   "outputs": [],
   "source": [
    "\n",
    "# plt.figure(figsize=(12,8))\n",
    "# mask = np.triu(np.ones_like(df.corr()))\n",
    "# sns.heatmap(df.corr(), mask=mask, annot=True, fmt='.2f', cmap='YlOrBr')\n",
    "\n",
    "numeric_columns = df.select_dtypes(include=['number']).columns\n",
    "correlation_matrix = df[numeric_columns].corr()\n",
    "\n",
    "plt.figure(figsize=(12, 8))\n",
    "mask = np.triu(np.ones_like(correlation_matrix))\n",
    "sns.heatmap(correlation_matrix, mask=mask, annot=True, fmt='.2f', cmap='YlOrBr')\n",
    "plt.show()"
   ]
  },
  {
   "cell_type": "code",
   "execution_count": null,
   "id": "0de0aa42",
   "metadata": {
    "colab": {
     "base_uri": "https://localhost:8080/",
     "height": 329
    },
    "execution": {
     "iopub.execute_input": "2023-04-07T04:09:19.578107Z",
     "iopub.status.busy": "2023-04-07T04:09:19.577686Z",
     "iopub.status.idle": "2023-04-07T04:09:19.949948Z",
     "shell.execute_reply": "2023-04-07T04:09:19.948670Z"
    },
    "id": "0de0aa42",
    "outputId": "3ef2b636-ce52-4b17-cc2b-b2594bdefa8c",
    "papermill": {
     "duration": 0.400372,
     "end_time": "2023-04-07T04:09:19.952521",
     "exception": false,
     "start_time": "2023-04-07T04:09:19.552149",
     "status": "completed"
    },
    "tags": []
   },
   "outputs": [],
   "source": [
    "fig, ax = plt.subplots(figsize=(10, 3))\n",
    "sns.kdeplot(df[df['Churn'] == 1]['Tenure'].dropna(), color= 'chocolate', label= 'Churn: Yes', ax=ax)\n",
    "sns.kdeplot(df[df['Churn'] == 0]['Tenure'].dropna(), color= 'navy', label= 'Churn: No', ax=ax)\n",
    "plt.axvline(x=1, ls='--', color='green')\n",
    "x_ticks = np.append(ax.get_xticks(), 1)\n",
    "ax.set_xticks(x_ticks)\n",
    "plt.legend(loc = 1)"
   ]
  },
  {
   "cell_type": "code",
   "execution_count": null,
   "id": "92ff9796",
   "metadata": {
    "execution": {
     "iopub.execute_input": "2023-04-07T04:09:20.002248Z",
     "iopub.status.busy": "2023-04-07T04:09:20.001814Z",
     "iopub.status.idle": "2023-04-07T04:09:20.009087Z",
     "shell.execute_reply": "2023-04-07T04:09:20.007915Z"
    },
    "id": "92ff9796",
    "papermill": {
     "duration": 0.035174,
     "end_time": "2023-04-07T04:09:20.011674",
     "exception": false,
     "start_time": "2023-04-07T04:09:19.976500",
     "status": "completed"
    },
    "tags": []
   },
   "outputs": [],
   "source": [
    "def churn_plot(x, data):\n",
    "    df_cats = data.copy()\n",
    "    df_city = df_cats.groupby(x)['CustomerID'].nunique().reset_index(name='Total')\n",
    "    df_churn =  df_cats.groupby([x, 'Churn'])['CustomerID'].nunique().reset_index(name='TotalCustomer')\n",
    "    df_merge = df_churn.merge(df_city, on=x)\n",
    "    df_merge['Percentage'] = round(df_merge['TotalCustomer']/df_merge['Total']*100,2)\n",
    "\n",
    "    return df_merge"
   ]
  },
  {
   "cell_type": "code",
   "execution_count": null,
   "id": "caeca349",
   "metadata": {
    "colab": {
     "base_uri": "https://localhost:8080/",
     "height": 407
    },
    "execution": {
     "iopub.execute_input": "2023-04-07T04:09:20.061295Z",
     "iopub.status.busy": "2023-04-07T04:09:20.060880Z",
     "iopub.status.idle": "2023-04-07T04:09:20.459513Z",
     "shell.execute_reply": "2023-04-07T04:09:20.458256Z"
    },
    "id": "caeca349",
    "outputId": "003b0919-3ff3-4995-8db0-181dbc1df284",
    "papermill": {
     "duration": 0.426723,
     "end_time": "2023-04-07T04:09:20.462185",
     "exception": false,
     "start_time": "2023-04-07T04:09:20.035462",
     "status": "completed"
    },
    "tags": []
   },
   "outputs": [],
   "source": [
    "def segment(df):\n",
    "    if df['Tenure'] < 2:\n",
    "        return 'under 2 months'\n",
    "    else:\n",
    "        return '2 months or above'\n",
    "\n",
    "df_tenure = df.copy()\n",
    "df_tenure['Tenure'] = df_tenure.apply(lambda x: segment(x), axis=1)\n",
    "\n",
    "plt.figure(figsize=(8,4))\n",
    "data = churn_plot('Tenure', df_tenure)\n",
    "ax = sns.barplot(x='Tenure', y='Percentage', data=data, hue = 'Churn')\n",
    "ax.set_title('Churn Rate by Tenure')\n",
    "\n",
    "for container in ax.containers:\n",
    "    ax.bar_label(container, fontsize=9, fmt='%.1f%%')\n",
    "    ax.set_ylim(top=105)\n",
    "    ax.legend(loc=1, title='Churn')\n",
    "plt.tight_layout()"
   ]
  },
  {
   "cell_type": "code",
   "execution_count": null,
   "id": "d91def51",
   "metadata": {
    "colab": {
     "base_uri": "https://localhost:8080/",
     "height": 589
    },
    "execution": {
     "iopub.execute_input": "2023-04-07T04:09:20.512818Z",
     "iopub.status.busy": "2023-04-07T04:09:20.512382Z",
     "iopub.status.idle": "2023-04-07T04:09:22.681234Z",
     "shell.execute_reply": "2023-04-07T04:09:22.680345Z"
    },
    "id": "d91def51",
    "outputId": "15970a74-20e7-4cb6-eea6-ef4e515c0648",
    "papermill": {
     "duration": 2.19646,
     "end_time": "2023-04-07T04:09:22.683447",
     "exception": false,
     "start_time": "2023-04-07T04:09:20.486987",
     "status": "completed"
    },
    "tags": []
   },
   "outputs": [],
   "source": [
    "kolom = ['CityTier', 'PreferredPaymentMode', 'Gender', 'PreferedOrderCat', 'Complain', 'MaritalStatus']\n",
    "plt.figure(figsize=(15,10))\n",
    "for i in range(0, len(kolom)):\n",
    "    plt.subplot(4, 2, i+1)\n",
    "    data = churn_plot(kolom[i], df)\n",
    "    ax = sns.barplot(x=kolom[i], y='Percentage', data=data, hue = 'Churn')\n",
    "    ax.set_title(f'Churn Rate by {kolom[i]}')\n",
    "\n",
    "    for container in ax.containers:\n",
    "        ax.bar_label(container, fontsize=9, fmt='%.1f%%')\n",
    "        ax.set_ylim(top=105)\n",
    "        ax.legend(loc='center right', title='Churn')\n",
    "    plt.tight_layout()"
   ]
  },
  {
   "cell_type": "code",
   "execution_count": null,
   "id": "f80993e5",
   "metadata": {
    "colab": {
     "base_uri": "https://localhost:8080/",
     "height": 285
    },
    "execution": {
     "iopub.execute_input": "2023-04-07T04:09:22.738821Z",
     "iopub.status.busy": "2023-04-07T04:09:22.737992Z",
     "iopub.status.idle": "2023-04-07T04:09:23.279539Z",
     "shell.execute_reply": "2023-04-07T04:09:23.278626Z"
    },
    "id": "f80993e5",
    "outputId": "d5164518-be7a-4c03-ca8f-6551fe8f0674",
    "papermill": {
     "duration": 0.571516,
     "end_time": "2023-04-07T04:09:23.282027",
     "exception": false,
     "start_time": "2023-04-07T04:09:22.710511",
     "status": "completed"
    },
    "tags": []
   },
   "outputs": [],
   "source": [
    "kolom = ['WarehouseToHome', 'OrderCount', 'CashbackAmount']\n",
    "plt.figure(figsize=(12,3))\n",
    "for i in range(0, len(kolom)):\n",
    "    plt.subplot(1, 3, i+1)\n",
    "    data = df.copy()\n",
    "    data = data.groupby('Churn')[kolom[i]].mean().reset_index(name='Avg'+ kolom[i])\n",
    "    ax = sns.barplot(x='Churn', y='Avg'+kolom[i], data=data)\n",
    "\n",
    "    for container in ax.containers:\n",
    "        ax.bar_label(container, fontsize=11, fmt='%.2f')\n",
    "        ax.set_ylim(top=ax.get_ylim()[1]*1.1)\n",
    "        ax.set_title(f'Avaerage {kolom[i]} by Churn')\n",
    "    plt.tight_layout()"
   ]
  },
  {
   "cell_type": "markdown",
   "id": "e9e30e67",
   "metadata": {
    "id": "e9e30e67",
    "papermill": {
     "duration": 0.027376,
     "end_time": "2023-04-07T04:09:23.335441",
     "exception": false,
     "start_time": "2023-04-07T04:09:23.308065",
     "status": "completed"
    },
    "tags": []
   },
   "source": [
    "# 2. Preprocessing"
   ]
  },
  {
   "cell_type": "markdown",
   "id": "e8606c8a",
   "metadata": {
    "id": "e8606c8a",
    "papermill": {
     "duration": 0.027449,
     "end_time": "2023-04-07T04:09:23.389609",
     "exception": false,
     "start_time": "2023-04-07T04:09:23.362160",
     "status": "completed"
    },
    "tags": []
   },
   "source": [
    "## Missing Values"
   ]
  },
  {
   "cell_type": "code",
   "execution_count": null,
   "id": "2bd6ae88",
   "metadata": {
    "execution": {
     "iopub.execute_input": "2023-04-07T04:09:23.445373Z",
     "iopub.status.busy": "2023-04-07T04:09:23.444632Z",
     "iopub.status.idle": "2023-04-07T04:09:23.457155Z",
     "shell.execute_reply": "2023-04-07T04:09:23.456109Z"
    },
    "id": "2bd6ae88",
    "papermill": {
     "duration": 0.043684,
     "end_time": "2023-04-07T04:09:23.459914",
     "exception": false,
     "start_time": "2023-04-07T04:09:23.416230",
     "status": "completed"
    },
    "tags": []
   },
   "outputs": [],
   "source": [
    "df['Tenure'].fillna(df['Tenure'].median(), inplace=True)\n",
    "df['WarehouseToHome'].fillna(df['WarehouseToHome'].median(), inplace=True)\n",
    "df['OrderAmountHikeFromlastYear'].fillna(df['OrderAmountHikeFromlastYear'].median(), inplace=True)\n",
    "df['CouponUsed'].fillna(df['CouponUsed'].median(), inplace=True)\n",
    "df['OrderCount'].fillna(df['OrderCount'].median(), inplace=True)\n",
    "df['DaySinceLastOrder'].fillna(df['DaySinceLastOrder'].median(), inplace=True)\n",
    "df['HourSpendOnApp'].fillna(df['HourSpendOnApp'].median(), inplace=True)"
   ]
  },
  {
   "cell_type": "markdown",
   "id": "8655f8d8",
   "metadata": {
    "id": "8655f8d8",
    "papermill": {
     "duration": 0.025913,
     "end_time": "2023-04-07T04:09:23.512434",
     "exception": false,
     "start_time": "2023-04-07T04:09:23.486521",
     "status": "completed"
    },
    "tags": []
   },
   "source": [
    "## Outliers"
   ]
  },
  {
   "cell_type": "code",
   "execution_count": null,
   "id": "b6d3b8d5",
   "metadata": {
    "colab": {
     "base_uri": "https://localhost:8080/"
    },
    "execution": {
     "iopub.execute_input": "2023-04-07T04:09:23.567835Z",
     "iopub.status.busy": "2023-04-07T04:09:23.567343Z",
     "iopub.status.idle": "2023-04-07T04:09:23.593459Z",
     "shell.execute_reply": "2023-04-07T04:09:23.592020Z"
    },
    "id": "b6d3b8d5",
    "outputId": "4cccdea1-8b5c-4ce6-fe3b-2791adb38720",
    "papermill": {
     "duration": 0.057258,
     "end_time": "2023-04-07T04:09:23.596072",
     "exception": false,
     "start_time": "2023-04-07T04:09:23.538814",
     "status": "completed"
    },
    "tags": []
   },
   "outputs": [],
   "source": [
    "print(f'before: {len(df)}')\n",
    "\n",
    "filtered_entries = np.array([True] * len(df))\n",
    "\n",
    "for col in nums:\n",
    "    zscore = abs(stats.zscore(df[col]))\n",
    "    filtered_entries = (zscore < 3) & filtered_entries\n",
    "\n",
    "df = df[filtered_entries]\n",
    "\n",
    "print(f'after: {len(df)}')"
   ]
  },
  {
   "cell_type": "markdown",
   "id": "5da4f25e",
   "metadata": {
    "id": "5da4f25e",
    "papermill": {
     "duration": 0.027719,
     "end_time": "2023-04-07T04:09:23.651311",
     "exception": false,
     "start_time": "2023-04-07T04:09:23.623592",
     "status": "completed"
    },
    "tags": []
   },
   "source": [
    "## Duplicated Data"
   ]
  },
  {
   "cell_type": "code",
   "execution_count": null,
   "id": "2d85c19a",
   "metadata": {
    "colab": {
     "base_uri": "https://localhost:8080/"
    },
    "execution": {
     "iopub.execute_input": "2023-04-07T04:09:23.723002Z",
     "iopub.status.busy": "2023-04-07T04:09:23.722116Z",
     "iopub.status.idle": "2023-04-07T04:09:23.733919Z",
     "shell.execute_reply": "2023-04-07T04:09:23.732389Z"
    },
    "id": "2d85c19a",
    "outputId": "6f20c84e-fa9b-402c-a7f2-bb828bfd8c55",
    "papermill": {
     "duration": 0.050244,
     "end_time": "2023-04-07T04:09:23.736680",
     "exception": false,
     "start_time": "2023-04-07T04:09:23.686436",
     "status": "completed"
    },
    "tags": []
   },
   "outputs": [],
   "source": [
    "df.duplicated(subset=['CustomerID']).sum()"
   ]
  },
  {
   "cell_type": "markdown",
   "id": "d6587bbd",
   "metadata": {
    "id": "d6587bbd",
    "papermill": {
     "duration": 0.026527,
     "end_time": "2023-04-07T04:09:23.794694",
     "exception": false,
     "start_time": "2023-04-07T04:09:23.768167",
     "status": "completed"
    },
    "tags": []
   },
   "source": [
    "## Feature Encoding"
   ]
  },
  {
   "cell_type": "markdown",
   "id": "97284db7",
   "metadata": {
    "id": "97284db7",
    "papermill": {
     "duration": 0.026242,
     "end_time": "2023-04-07T04:09:23.848088",
     "exception": false,
     "start_time": "2023-04-07T04:09:23.821846",
     "status": "completed"
    },
    "tags": []
   },
   "source": [
    "### Label Encoding"
   ]
  },
  {
   "cell_type": "code",
   "execution_count": null,
   "id": "22b47c12",
   "metadata": {
    "execution": {
     "iopub.execute_input": "2023-04-07T04:09:23.903282Z",
     "iopub.status.busy": "2023-04-07T04:09:23.902839Z",
     "iopub.status.idle": "2023-04-07T04:09:23.917982Z",
     "shell.execute_reply": "2023-04-07T04:09:23.916914Z"
    },
    "id": "22b47c12",
    "papermill": {
     "duration": 0.046337,
     "end_time": "2023-04-07T04:09:23.920775",
     "exception": false,
     "start_time": "2023-04-07T04:09:23.874438",
     "status": "completed"
    },
    "tags": []
   },
   "outputs": [],
   "source": [
    "df['Gender'] = df['Gender'].replace(['Female','Male'], [0, 1])\n",
    "df['MaritalStatus'] = df['MaritalStatus'].replace(['Divorced'], ['Single'])\n",
    "df['MaritalStatus'] = df['MaritalStatus'].replace(['Single','Married'], [0, 1])"
   ]
  },
  {
   "cell_type": "markdown",
   "id": "1300e796",
   "metadata": {
    "id": "1300e796",
    "papermill": {
     "duration": 0.026383,
     "end_time": "2023-04-07T04:09:23.973688",
     "exception": false,
     "start_time": "2023-04-07T04:09:23.947305",
     "status": "completed"
    },
    "tags": []
   },
   "source": [
    "### One Hot Encoding"
   ]
  },
  {
   "cell_type": "code",
   "execution_count": null,
   "id": "a5c12f21",
   "metadata": {
    "execution": {
     "iopub.execute_input": "2023-04-07T04:09:24.029814Z",
     "iopub.status.busy": "2023-04-07T04:09:24.028968Z",
     "iopub.status.idle": "2023-04-07T04:09:24.040346Z",
     "shell.execute_reply": "2023-04-07T04:09:24.038936Z"
    },
    "id": "a5c12f21",
    "papermill": {
     "duration": 0.042857,
     "end_time": "2023-04-07T04:09:24.043110",
     "exception": false,
     "start_time": "2023-04-07T04:09:24.000253",
     "status": "completed"
    },
    "tags": []
   },
   "outputs": [],
   "source": [
    "df['PreferredLoginDevice'] = df['PreferredLoginDevice'].replace(['Phone','Mobile Phone'], ['Handphone', 'Handphone'])\n",
    "df['PreferredPaymentMode'] = df['PreferredPaymentMode'].replace(['CC','COD'], ['Credit Card','Cash on Delivery'])\n",
    "df['PreferedOrderCat'] = df['PreferedOrderCat'].replace(['Mobile','Mobile Phone', 'Laptop & Accessory'], ['Electronics', 'Electronics', 'Electronics'])"
   ]
  },
  {
   "cell_type": "code",
   "execution_count": null,
   "id": "0182fb09",
   "metadata": {
    "colab": {
     "base_uri": "https://localhost:8080/",
     "height": 244
    },
    "execution": {
     "iopub.execute_input": "2023-04-07T04:09:24.099328Z",
     "iopub.status.busy": "2023-04-07T04:09:24.098540Z",
     "iopub.status.idle": "2023-04-07T04:09:24.134854Z",
     "shell.execute_reply": "2023-04-07T04:09:24.133755Z"
    },
    "id": "0182fb09",
    "outputId": "3cfd00d0-282d-4acf-902c-1e00d8d81805",
    "papermill": {
     "duration": 0.067596,
     "end_time": "2023-04-07T04:09:24.137170",
     "exception": false,
     "start_time": "2023-04-07T04:09:24.069574",
     "status": "completed"
    },
    "tags": []
   },
   "outputs": [],
   "source": [
    "df = pd.get_dummies(df)\n",
    "df.head()"
   ]
  },
  {
   "cell_type": "markdown",
   "id": "afad03da",
   "metadata": {
    "id": "afad03da",
    "papermill": {
     "duration": 0.026391,
     "end_time": "2023-04-07T04:09:24.190301",
     "exception": false,
     "start_time": "2023-04-07T04:09:24.163910",
     "status": "completed"
    },
    "tags": []
   },
   "source": [
    "## Feature Engineering"
   ]
  },
  {
   "cell_type": "code",
   "execution_count": null,
   "id": "9d43e935",
   "metadata": {
    "execution": {
     "iopub.execute_input": "2023-04-07T04:09:24.246641Z",
     "iopub.status.busy": "2023-04-07T04:09:24.245437Z",
     "iopub.status.idle": "2023-04-07T04:09:24.251698Z",
     "shell.execute_reply": "2023-04-07T04:09:24.250780Z"
    },
    "id": "9d43e935",
    "papermill": {
     "duration": 0.036802,
     "end_time": "2023-04-07T04:09:24.253943",
     "exception": false,
     "start_time": "2023-04-07T04:09:24.217141",
     "status": "completed"
    },
    "tags": []
   },
   "outputs": [],
   "source": [
    "df['AvgCashback'] = df['CashbackAmount'] / df['OrderCount']"
   ]
  },
  {
   "cell_type": "markdown",
   "id": "8e0c20aa",
   "metadata": {
    "id": "8e0c20aa",
    "papermill": {
     "duration": 0.026679,
     "end_time": "2023-04-07T04:09:24.307224",
     "exception": false,
     "start_time": "2023-04-07T04:09:24.280545",
     "status": "completed"
    },
    "tags": []
   },
   "source": [
    "### Feature Transformation"
   ]
  },
  {
   "cell_type": "code",
   "execution_count": null,
   "id": "e53e3832",
   "metadata": {
    "execution": {
     "iopub.execute_input": "2023-04-07T04:09:24.364245Z",
     "iopub.status.busy": "2023-04-07T04:09:24.363454Z",
     "iopub.status.idle": "2023-04-07T04:09:24.379242Z",
     "shell.execute_reply": "2023-04-07T04:09:24.378195Z"
    },
    "id": "e53e3832",
    "papermill": {
     "duration": 0.047636,
     "end_time": "2023-04-07T04:09:24.382048",
     "exception": false,
     "start_time": "2023-04-07T04:09:24.334412",
     "status": "completed"
    },
    "tags": []
   },
   "outputs": [],
   "source": [
    "column = ['Tenure', 'CityTier', 'WarehouseToHome', 'HourSpendOnApp', 'NumberOfDeviceRegistered',\n",
    "          'SatisfactionScore', 'NumberOfAddress', 'OrderAmountHikeFromlastYear', 'CouponUsed',\n",
    "          'OrderCount', 'DaySinceLastOrder', 'CashbackAmount', 'AvgCashback']\n",
    "for col in column:\n",
    "    df[col] = StandardScaler().fit_transform(df[col].values.reshape(len(df),1))"
   ]
  },
  {
   "cell_type": "code",
   "execution_count": null,
   "id": "85d16bad",
   "metadata": {
    "colab": {
     "base_uri": "https://localhost:8080/",
     "height": 407
    },
    "execution": {
     "iopub.execute_input": "2023-04-07T04:09:24.437374Z",
     "iopub.status.busy": "2023-04-07T04:09:24.436970Z",
     "iopub.status.idle": "2023-04-07T04:09:24.540924Z",
     "shell.execute_reply": "2023-04-07T04:09:24.539651Z"
    },
    "id": "85d16bad",
    "outputId": "43a9c8c9-62d0-48c6-dfb3-efd15083e046",
    "papermill": {
     "duration": 0.135474,
     "end_time": "2023-04-07T04:09:24.544118",
     "exception": false,
     "start_time": "2023-04-07T04:09:24.408644",
     "status": "completed"
    },
    "tags": []
   },
   "outputs": [],
   "source": [
    "df.describe()"
   ]
  },
  {
   "cell_type": "markdown",
   "id": "35a8ff85",
   "metadata": {
    "id": "35a8ff85",
    "papermill": {
     "duration": 0.027036,
     "end_time": "2023-04-07T04:09:24.598957",
     "exception": false,
     "start_time": "2023-04-07T04:09:24.571921",
     "status": "completed"
    },
    "tags": []
   },
   "source": [
    "### Feature Selection"
   ]
  },
  {
   "cell_type": "code",
   "execution_count": null,
   "id": "49a7bfd4",
   "metadata": {
    "colab": {
     "base_uri": "https://localhost:8080/",
     "height": 966
    },
    "execution": {
     "iopub.execute_input": "2023-04-07T04:09:24.655727Z",
     "iopub.status.busy": "2023-04-07T04:09:24.655231Z",
     "iopub.status.idle": "2023-04-07T04:09:27.912139Z",
     "shell.execute_reply": "2023-04-07T04:09:27.910879Z"
    },
    "id": "49a7bfd4",
    "outputId": "55b1d8f9-0d9e-43fb-a82e-1096dd9918f8",
    "papermill": {
     "duration": 3.293891,
     "end_time": "2023-04-07T04:09:27.920022",
     "exception": false,
     "start_time": "2023-04-07T04:09:24.626131",
     "status": "completed"
    },
    "tags": []
   },
   "outputs": [],
   "source": [
    "plt.figure(figsize=(20,15))\n",
    "mask = np.triu(np.ones_like(df.corr()))\n",
    "sns.heatmap(df.corr(), mask=mask, annot=True, fmt='.2f', cmap='YlOrBr')"
   ]
  },
  {
   "cell_type": "code",
   "execution_count": null,
   "id": "1a29fcaa",
   "metadata": {
    "colab": {
     "base_uri": "https://localhost:8080/",
     "height": 181
    },
    "execution": {
     "iopub.execute_input": "2023-04-07T04:09:27.994398Z",
     "iopub.status.busy": "2023-04-07T04:09:27.993622Z",
     "iopub.status.idle": "2023-04-07T04:09:28.033588Z",
     "shell.execute_reply": "2023-04-07T04:09:28.032289Z"
    },
    "id": "1a29fcaa",
    "outputId": "116a1c29-041e-4694-ff10-008f037634e8",
    "papermill": {
     "duration": 0.080148,
     "end_time": "2023-04-07T04:09:28.036270",
     "exception": false,
     "start_time": "2023-04-07T04:09:27.956122",
     "status": "completed"
    },
    "tags": []
   },
   "outputs": [],
   "source": [
    "column = []\n",
    "for col in df.columns:\n",
    "    if (abs(df['Churn'].corr(df[col])) > 0.05):\n",
    "        column.append(col)\n",
    "df_final = df[column]\n",
    "df_final.sample(3)"
   ]
  },
  {
   "cell_type": "markdown",
   "id": "48d06449",
   "metadata": {
    "id": "48d06449",
    "papermill": {
     "duration": 0.035899,
     "end_time": "2023-04-07T04:09:28.107480",
     "exception": false,
     "start_time": "2023-04-07T04:09:28.071581",
     "status": "completed"
    },
    "tags": []
   },
   "source": [
    "## Train Test Split Data"
   ]
  },
  {
   "cell_type": "code",
   "execution_count": null,
   "id": "8164e162",
   "metadata": {
    "execution": {
     "iopub.execute_input": "2023-04-07T04:09:28.182712Z",
     "iopub.status.busy": "2023-04-07T04:09:28.182235Z",
     "iopub.status.idle": "2023-04-07T04:09:28.189058Z",
     "shell.execute_reply": "2023-04-07T04:09:28.187794Z"
    },
    "id": "8164e162",
    "papermill": {
     "duration": 0.047596,
     "end_time": "2023-04-07T04:09:28.192069",
     "exception": false,
     "start_time": "2023-04-07T04:09:28.144473",
     "status": "completed"
    },
    "tags": []
   },
   "outputs": [],
   "source": [
    "X = df_final.drop('Churn', axis=1)\n",
    "y = df_final['Churn']"
   ]
  },
  {
   "cell_type": "code",
   "execution_count": null,
   "id": "084d614e",
   "metadata": {
    "execution": {
     "iopub.execute_input": "2023-04-07T04:09:28.266758Z",
     "iopub.status.busy": "2023-04-07T04:09:28.265892Z",
     "iopub.status.idle": "2023-04-07T04:09:28.273672Z",
     "shell.execute_reply": "2023-04-07T04:09:28.272809Z"
    },
    "id": "084d614e",
    "papermill": {
     "duration": 0.047222,
     "end_time": "2023-04-07T04:09:28.276260",
     "exception": false,
     "start_time": "2023-04-07T04:09:28.229038",
     "status": "completed"
    },
    "tags": []
   },
   "outputs": [],
   "source": [
    "X_train, X_test, y_train, y_test = train_test_split(X, y, test_size=0.2, random_state=10)"
   ]
  },
  {
   "cell_type": "markdown",
   "id": "a09167d9",
   "metadata": {
    "id": "a09167d9",
    "papermill": {
     "duration": 0.034959,
     "end_time": "2023-04-07T04:09:28.346150",
     "exception": false,
     "start_time": "2023-04-07T04:09:28.311191",
     "status": "completed"
    },
    "tags": []
   },
   "source": [
    "## Handle Class Imbalance"
   ]
  },
  {
   "cell_type": "code",
   "execution_count": null,
   "id": "a3354c72",
   "metadata": {
    "colab": {
     "base_uri": "https://localhost:8080/"
    },
    "execution": {
     "iopub.execute_input": "2023-04-07T04:09:28.419510Z",
     "iopub.status.busy": "2023-04-07T04:09:28.418606Z",
     "iopub.status.idle": "2023-04-07T04:09:28.427271Z",
     "shell.execute_reply": "2023-04-07T04:09:28.425825Z"
    },
    "id": "a3354c72",
    "outputId": "91b8bed5-42c7-4dca-efb7-d5bc45a1b893",
    "papermill": {
     "duration": 0.04852,
     "end_time": "2023-04-07T04:09:28.429738",
     "exception": false,
     "start_time": "2023-04-07T04:09:28.381218",
     "status": "completed"
    },
    "tags": []
   },
   "outputs": [],
   "source": [
    "print(X_train.shape)\n",
    "print(y_train.shape)\n",
    "print(y_train.value_counts())"
   ]
  },
  {
   "cell_type": "code",
   "execution_count": null,
   "id": "3f00fc92",
   "metadata": {
    "execution": {
     "iopub.execute_input": "2023-04-07T04:09:28.502616Z",
     "iopub.status.busy": "2023-04-07T04:09:28.501905Z",
     "iopub.status.idle": "2023-04-07T04:09:28.556189Z",
     "shell.execute_reply": "2023-04-07T04:09:28.554316Z"
    },
    "id": "3f00fc92",
    "papermill": {
     "duration": 0.095857,
     "end_time": "2023-04-07T04:09:28.560970",
     "exception": false,
     "start_time": "2023-04-07T04:09:28.465113",
     "status": "completed"
    },
    "tags": []
   },
   "outputs": [],
   "source": [
    "X_train, y_train = over_sampling.SMOTE(random_state=10).fit_resample(X_train, y_train)"
   ]
  },
  {
   "cell_type": "code",
   "execution_count": null,
   "id": "46e6469b",
   "metadata": {
    "colab": {
     "base_uri": "https://localhost:8080/"
    },
    "execution": {
     "iopub.execute_input": "2023-04-07T04:09:28.677682Z",
     "iopub.status.busy": "2023-04-07T04:09:28.677258Z",
     "iopub.status.idle": "2023-04-07T04:09:28.684395Z",
     "shell.execute_reply": "2023-04-07T04:09:28.683224Z"
    },
    "id": "46e6469b",
    "outputId": "c7dca912-faad-4c3d-a228-aa654a1be350",
    "papermill": {
     "duration": 0.047932,
     "end_time": "2023-04-07T04:09:28.688750",
     "exception": false,
     "start_time": "2023-04-07T04:09:28.640818",
     "status": "completed"
    },
    "tags": []
   },
   "outputs": [],
   "source": [
    "print(X_train.shape)\n",
    "print(y_train.shape)\n",
    "print(y_train.value_counts())"
   ]
  },
  {
   "cell_type": "markdown",
   "id": "90a0bc3e",
   "metadata": {
    "id": "90a0bc3e",
    "papermill": {
     "duration": 0.035631,
     "end_time": "2023-04-07T04:09:28.760397",
     "exception": false,
     "start_time": "2023-04-07T04:09:28.724766",
     "status": "completed"
    },
    "tags": []
   },
   "source": [
    "# 3. Modeling"
   ]
  },
  {
   "cell_type": "code",
   "execution_count": null,
   "id": "039637e3",
   "metadata": {
    "execution": {
     "iopub.execute_input": "2023-04-07T04:09:28.832705Z",
     "iopub.status.busy": "2023-04-07T04:09:28.832269Z",
     "iopub.status.idle": "2023-04-07T04:09:28.837162Z",
     "shell.execute_reply": "2023-04-07T04:09:28.836173Z"
    },
    "id": "039637e3",
    "papermill": {
     "duration": 0.043968,
     "end_time": "2023-04-07T04:09:28.839509",
     "exception": false,
     "start_time": "2023-04-07T04:09:28.795541",
     "status": "completed"
    },
    "tags": []
   },
   "outputs": [],
   "source": [
    "f2_score = make_scorer(fbeta_score, pos_label=0, beta=2)"
   ]
  },
  {
   "cell_type": "code",
   "execution_count": null,
   "id": "dfde0155",
   "metadata": {
    "execution": {
     "iopub.execute_input": "2023-04-07T04:09:28.911581Z",
     "iopub.status.busy": "2023-04-07T04:09:28.911139Z",
     "iopub.status.idle": "2023-04-07T04:09:28.918410Z",
     "shell.execute_reply": "2023-04-07T04:09:28.917078Z"
    },
    "id": "dfde0155",
    "papermill": {
     "duration": 0.046351,
     "end_time": "2023-04-07T04:09:28.921016",
     "exception": false,
     "start_time": "2023-04-07T04:09:28.874665",
     "status": "completed"
    },
    "tags": []
   },
   "outputs": [],
   "source": [
    "def evaluation(model_str, y_pred, y_pred_train):\n",
    "    results = {\n",
    "        'model': model_str,\n",
    "        'acc test' : accuracy_score(y_test, y_pred),\n",
    "        'acc train': accuracy_score(y_train, y_pred_train),\n",
    "        'prec test' : precision_score(y_test, y_pred),\n",
    "        'prec train' : precision_score(y_train, y_pred_train),\n",
    "        'rec test' : recall_score(y_test, y_pred),\n",
    "        'rec train' : recall_score(y_train, y_pred_train),\n",
    "        'f2 test': fbeta_score(y_test, y_pred, pos_label=0,  beta=2),\n",
    "        'f2 train': fbeta_score(y_train, y_pred_train, pos_label=0,  beta=2)\n",
    "    }\n",
    "    return results"
   ]
  },
  {
   "cell_type": "code",
   "execution_count": null,
   "id": "eb1749bc",
   "metadata": {
    "execution": {
     "iopub.execute_input": "2023-04-07T04:09:28.993268Z",
     "iopub.status.busy": "2023-04-07T04:09:28.992875Z",
     "iopub.status.idle": "2023-04-07T04:09:28.998349Z",
     "shell.execute_reply": "2023-04-07T04:09:28.997391Z"
    },
    "id": "eb1749bc",
    "papermill": {
     "duration": 0.044738,
     "end_time": "2023-04-07T04:09:29.000799",
     "exception": false,
     "start_time": "2023-04-07T04:09:28.956061",
     "status": "completed"
    },
    "tags": []
   },
   "outputs": [],
   "source": [
    "model_dict = {\n",
    "    'Logistic Regression': LogisticRegression(),\n",
    "    'Decision Tree': DecisionTreeClassifier(),\n",
    "    'KNN': KNeighborsClassifier(),\n",
    "    'Random Forest': RandomForestClassifier(),\n",
    "    'AdaBoost': AdaBoostClassifier(),\n",
    "    'Gradient Boosting': GradientBoostingClassifier(),\n",
    "    'Light GBM': LGBMClassifier(),\n",
    "    'XGBoost': XGBClassifier()\n",
    "}"
   ]
  },
  {
   "cell_type": "code",
   "execution_count": null,
   "id": "25e39d6d",
   "metadata": {
    "colab": {
     "base_uri": "https://localhost:8080/",
     "height": 474
    },
    "execution": {
     "iopub.execute_input": "2023-04-07T04:09:29.072942Z",
     "iopub.status.busy": "2023-04-07T04:09:29.072478Z",
     "iopub.status.idle": "2023-04-07T04:09:36.345220Z",
     "shell.execute_reply": "2023-04-07T04:09:36.343938Z"
    },
    "id": "25e39d6d",
    "outputId": "0f032576-c405-4611-a029-a65ab80b1bbd",
    "papermill": {
     "duration": 7.312046,
     "end_time": "2023-04-07T04:09:36.347912",
     "exception": false,
     "start_time": "2023-04-07T04:09:29.035866",
     "status": "completed"
    },
    "tags": []
   },
   "outputs": [],
   "source": [
    "%%time\n",
    "result_list = []\n",
    "for model in model_dict:\n",
    "    model_dict[model].fit(X_train, y_train)\n",
    "    y_pred = model_dict[model].predict(X_test)\n",
    "    y_pred_train = model_dict[model].predict(X_train)\n",
    "    result = evaluation(model, y_pred, y_pred_train)\n",
    "    result_list.append(result)\n",
    "df_eval = pd.DataFrame(result_list)\n",
    "df_eval"
   ]
  },
  {
   "cell_type": "markdown",
   "id": "de4bb1ab",
   "metadata": {
    "id": "de4bb1ab",
    "papermill": {
     "duration": 0.035144,
     "end_time": "2023-04-07T04:09:36.418814",
     "exception": false,
     "start_time": "2023-04-07T04:09:36.383670",
     "status": "completed"
    },
    "tags": []
   },
   "source": [
    "## Cross Validation"
   ]
  },
  {
   "cell_type": "code",
   "execution_count": null,
   "id": "74e9ca3d",
   "metadata": {
    "colab": {
     "base_uri": "https://localhost:8080/",
     "height": 1000
    },
    "execution": {
     "iopub.execute_input": "2023-04-07T04:09:36.491751Z",
     "iopub.status.busy": "2023-04-07T04:09:36.491262Z",
     "iopub.status.idle": "2023-04-07T04:09:56.892585Z",
     "shell.execute_reply": "2023-04-07T04:09:56.891291Z"
    },
    "id": "74e9ca3d",
    "outputId": "9e430feb-7cbf-4e59-bbf3-7e4ba2a193f9",
    "papermill": {
     "duration": 20.441298,
     "end_time": "2023-04-07T04:09:56.895597",
     "exception": false,
     "start_time": "2023-04-07T04:09:36.454299",
     "status": "completed"
    },
    "tags": []
   },
   "outputs": [],
   "source": [
    "%%time\n",
    "result_list = {'Model' : [], 'f2 test cv': [], 'f2 train cv': []}\n",
    "for model in model_dict:\n",
    "    score = cross_validate(model_dict[model], X, y, cv=5, scoring=f2_score, return_train_score=True)\n",
    "    ts = score['test_score'].mean()\n",
    "    tr = score['train_score'].mean()\n",
    "    result_list['Model'].append(model)\n",
    "    result_list['f2 test cv'].append(ts)\n",
    "    result_list['f2 train cv'].append(tr)\n",
    "df_eval = pd.DataFrame(result_list)\n",
    "df_eval\n"
   ]
  },
  {
   "cell_type": "markdown",
   "id": "6fc3e937",
   "metadata": {
    "id": "6fc3e937",
    "papermill": {
     "duration": 0.036181,
     "end_time": "2023-04-07T04:09:56.967970",
     "exception": false,
     "start_time": "2023-04-07T04:09:56.931789",
     "status": "completed"
    },
    "tags": []
   },
   "source": [
    "## Hyperparameter Tuning"
   ]
  },
  {
   "cell_type": "code",
   "execution_count": null,
   "id": "c3e039e9",
   "metadata": {
    "colab": {
     "base_uri": "https://localhost:8080/",
     "height": 150
    },
    "execution": {
     "iopub.execute_input": "2023-04-07T04:09:57.041701Z",
     "iopub.status.busy": "2023-04-07T04:09:57.041268Z",
     "iopub.status.idle": "2023-04-07T04:10:04.813963Z",
     "shell.execute_reply": "2023-04-07T04:10:04.812644Z"
    },
    "id": "c3e039e9",
    "outputId": "4c63c33c-25bf-4fc8-ba08-f5711f6302b9",
    "papermill": {
     "duration": 7.813359,
     "end_time": "2023-04-07T04:10:04.817210",
     "exception": false,
     "start_time": "2023-04-07T04:09:57.003851",
     "status": "completed"
    },
    "tags": []
   },
   "outputs": [],
   "source": [
    "%%time\n",
    "model = XGBClassifier()\n",
    "\n",
    "params = {\n",
    "    'n_estimators' : [99],\n",
    "    'learning_rate' : [0.27]\n",
    "}\n",
    "\n",
    "grid = GridSearchCV(estimator=model, param_grid=params, scoring=f2_score, cv=5)\n",
    "\n",
    "grid.fit(X_train, y_train)\n",
    "y_pred = grid.predict(X_test)\n",
    "y_pred_train = grid.predict(X_train)\n",
    "\n",
    "result_list = []\n",
    "result = evaluation('XGBoost', y_pred, y_pred_train)\n",
    "result_list.append(result)\n",
    "df_eval = pd.DataFrame(result_list)\n",
    "\n",
    "print(\"Best score:\", grid.best_score_)\n",
    "print(\"Best parameters:\", grid.best_params_)\n",
    "df_eval"
   ]
  },
  {
   "cell_type": "code",
   "execution_count": null,
   "id": "f21d4e11",
   "metadata": {
    "_kg_hide-input": true,
    "execution": {
     "iopub.execute_input": "2023-04-07T04:10:04.892898Z",
     "iopub.status.busy": "2023-04-07T04:10:04.892463Z",
     "iopub.status.idle": "2023-04-07T04:10:04.902587Z",
     "shell.execute_reply": "2023-04-07T04:10:04.901359Z"
    },
    "id": "f21d4e11",
    "papermill": {
     "duration": 0.051376,
     "end_time": "2023-04-07T04:10:04.904913",
     "exception": false,
     "start_time": "2023-04-07T04:10:04.853537",
     "status": "completed"
    },
    "tags": []
   },
   "outputs": [],
   "source": [
    "def draw_learning_curve(param_name, param_values):\n",
    "    train_scores = []\n",
    "    test_scores = []\n",
    "\n",
    "    for value in param_values:\n",
    "        param = {param_name: value}\n",
    "        model = XGBClassifier(**param)\n",
    "        model.fit(X_train, y_train)\n",
    "\n",
    "        # eval on train\n",
    "        y_pred_train = model.predict(X_train)\n",
    "        f2_train = fbeta_score(y_train, y_pred_train, pos_label=0,  beta=2)\n",
    "        train_scores.append(f2_train)\n",
    "\n",
    "        # eval on test\n",
    "        y_pred = model.predict(X_test)\n",
    "        f2_test = fbeta_score(y_test, y_pred, pos_label=0,  beta=2),\n",
    "        test_scores.append(f2_test)\n",
    "\n",
    "        diff = f2_train - f2_test\n",
    "\n",
    "        print('param value: ' + str(value) + '; train: ' + str(f2_train) + '; test: '+ str(f2_test)+ '; diff: '+ str(diff))\n",
    "\n",
    "    fig = plt.plot(param_values, train_scores, label='Train')\n",
    "    fig = plt.plot(param_values, test_scores, label='Test')\n",
    "    fig = plt.xlabel('k')\n",
    "    fig = plt.ylabel('f2')\n",
    "    fig = plt.title('Learning Curve')\n",
    "    fig = plt.legend()\n",
    "    fig = plt.show()\n",
    "    return fig\n",
    "\n",
    "# param_name = 'min_child_weight'\n",
    "# param_values = [int(x) for x in np.linspace(40, 100,num = 31)]\n",
    "# param_values = [float(x) for x in np.linspace(0.01, 0.3,num = 30)]\n",
    "# draw_learning_curve(param_name, param_values) #0.11,0.375"
   ]
  },
  {
   "cell_type": "markdown",
   "id": "427bd2e9",
   "metadata": {
    "id": "427bd2e9",
    "papermill": {
     "duration": 0.036321,
     "end_time": "2023-04-07T04:10:04.977717",
     "exception": false,
     "start_time": "2023-04-07T04:10:04.941396",
     "status": "completed"
    },
    "tags": []
   },
   "source": [
    "## Confusion Matrix"
   ]
  },
  {
   "cell_type": "code",
   "execution_count": null,
   "id": "ae912c2a",
   "metadata": {
    "colab": {
     "base_uri": "https://localhost:8080/",
     "height": 489
    },
    "execution": {
     "iopub.execute_input": "2023-04-07T04:10:05.053615Z",
     "iopub.status.busy": "2023-04-07T04:10:05.053187Z",
     "iopub.status.idle": "2023-04-07T04:10:05.340017Z",
     "shell.execute_reply": "2023-04-07T04:10:05.338750Z"
    },
    "id": "ae912c2a",
    "outputId": "69c12a9a-2e3e-4836-a574-50a9cb533de8",
    "papermill": {
     "duration": 0.328186,
     "end_time": "2023-04-07T04:10:05.343066",
     "exception": false,
     "start_time": "2023-04-07T04:10:05.014880",
     "status": "completed"
    },
    "tags": []
   },
   "outputs": [],
   "source": [
    "cm = confusion_matrix(y_test, y_pred)\n",
    "\n",
    "sns.heatmap(cm, annot=True, fmt='d', cmap='YlOrBr')\n",
    "plt.xlabel('Predicted Class')\n",
    "plt.ylabel('Actual Class')\n",
    "plt.title('Confusion Matrix') # 884,28,13,145"
   ]
  },
  {
   "cell_type": "markdown",
   "id": "b8785b1f",
   "metadata": {
    "id": "b8785b1f",
    "papermill": {
     "duration": 0.036836,
     "end_time": "2023-04-07T04:10:05.417000",
     "exception": false,
     "start_time": "2023-04-07T04:10:05.380164",
     "status": "completed"
    },
    "tags": []
   },
   "source": [
    "## Feature Importance"
   ]
  },
  {
   "cell_type": "code",
   "execution_count": null,
   "id": "6aa63a7e",
   "metadata": {
    "colab": {
     "base_uri": "https://localhost:8080/",
     "height": 727
    },
    "execution": {
     "iopub.execute_input": "2023-04-07T04:10:05.493589Z",
     "iopub.status.busy": "2023-04-07T04:10:05.492773Z",
     "iopub.status.idle": "2023-04-07T04:10:05.942032Z",
     "shell.execute_reply": "2023-04-07T04:10:05.941043Z"
    },
    "id": "6aa63a7e",
    "outputId": "491c6829-e25b-4bec-8a23-1fec11e0109d",
    "papermill": {
     "duration": 0.49059,
     "end_time": "2023-04-07T04:10:05.944530",
     "exception": false,
     "start_time": "2023-04-07T04:10:05.453940",
     "status": "completed"
    },
    "tags": []
   },
   "outputs": [],
   "source": [
    "best_model = grid.best_estimator_\n",
    "feat_importances = pd.Series(best_model.feature_importances_, index=X.columns)\n",
    "ax = feat_importances.nlargest(25).plot(kind='barh', figsize=(10, 8), color='chocolate')\n",
    "ax.invert_yaxis()\n",
    "\n",
    "plt.xlabel('score')\n",
    "plt.ylabel('feature')\n",
    "plt.title('feature importance score')"
   ]
  },
  {
   "cell_type": "code",
   "execution_count": null,
   "id": "701847ab",
   "metadata": {
    "colab": {
     "base_uri": "https://localhost:8080/",
     "height": 660
    },
    "execution": {
     "iopub.execute_input": "2023-04-07T04:10:06.024421Z",
     "iopub.status.busy": "2023-04-07T04:10:06.023670Z",
     "iopub.status.idle": "2023-04-07T04:10:07.847904Z",
     "shell.execute_reply": "2023-04-07T04:10:07.846161Z"
    },
    "id": "701847ab",
    "outputId": "cc7323bd-64e5-43dc-d475-0bdcc7cbb841",
    "papermill": {
     "duration": 1.870713,
     "end_time": "2023-04-07T04:10:07.853535",
     "exception": false,
     "start_time": "2023-04-07T04:10:05.982822",
     "status": "completed"
    },
    "tags": []
   },
   "outputs": [],
   "source": [
    "explainer = shap.Explainer(best_model)\n",
    "shap_values = explainer(X_test)\n",
    "shap.plots.waterfall(shap_values[0], show=False)\n",
    "plt.title('Features Impact on Not Churn Customer',x=0.3, y=1.1)\n",
    "plt.show()"
   ]
  },
  {
   "cell_type": "code",
   "execution_count": null,
   "id": "429792c8",
   "metadata": {
    "colab": {
     "base_uri": "https://localhost:8080/",
     "height": 660
    },
    "execution": {
     "iopub.execute_input": "2023-04-07T04:10:07.951756Z",
     "iopub.status.busy": "2023-04-07T04:10:07.950943Z",
     "iopub.status.idle": "2023-04-07T04:10:08.773925Z",
     "shell.execute_reply": "2023-04-07T04:10:08.772798Z"
    },
    "id": "429792c8",
    "outputId": "d7b06037-6810-438c-d1bf-4be48a398c70",
    "papermill": {
     "duration": 0.86671,
     "end_time": "2023-04-07T04:10:08.776428",
     "exception": false,
     "start_time": "2023-04-07T04:10:07.909718",
     "status": "completed"
    },
    "tags": []
   },
   "outputs": [],
   "source": [
    "shap.plots.waterfall(shap_values[1], show=False)\n",
    "plt.title('Features Impact on Churn Customer',x=0.3, y=1.1)\n",
    "plt.show()"
   ]
  }
 ],
 "metadata": {
  "colab": {
   "collapsed_sections": [
    "25d5c56f"
   ],
   "provenance": []
  },
  "kernelspec": {
   "display_name": "Python 3 (ipykernel)",
   "language": "python",
   "name": "python3"
  },
  "language_info": {
   "codemirror_mode": {
    "name": "ipython",
    "version": 3
   },
   "file_extension": ".py",
   "mimetype": "text/x-python",
   "name": "python",
   "nbconvert_exporter": "python",
   "pygments_lexer": "ipython3",
   "version": "3.9.12"
  },
  "papermill": {
   "default_parameters": {},
   "duration": 78.509609,
   "end_time": "2023-04-07T04:10:10.345143",
   "environment_variables": {},
   "exception": null,
   "input_path": "__notebook__.ipynb",
   "output_path": "__notebook__.ipynb",
   "parameters": {},
   "start_time": "2023-04-07T04:08:51.835534",
   "version": "2.4.0"
  }
 },
 "nbformat": 4,
 "nbformat_minor": 5
}
